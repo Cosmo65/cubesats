{
 "cells": [
  {
   "cell_type": "markdown",
   "metadata": {},
   "source": [
    "## 1.1. Main formulas\n",
    "\n",
    "### 1.1.1. Expected Signal-to-Noise ratio\n",
    "\n",
    "Before we start considering even different types of modulation it is extremely valuable to know what SNR values can be expected on the receiver side. In fact, we can calculate the SNR as:\n",
    "\n",
    "$$ SNR = P_t + G_t + G_r + \\eta_{t} + \\eta_{r} - L_r - L_t - L_{add} - L - N \\qquad (1.1) $$\n",
    "\n",
    "where $N$ is the total termal noise power \\(relates to the noise spectral density $N_0=kT_{noise}$ and double-sided white noise variance $\\sigma^2=\\frac{N_0}{2}$\\) in dBm, $P_t$ is the transmitted power in dBm, $G_t$ and $G_r$ are the antenna gains  on the transmitter and receiver sides respectively \\(in dBi\\), $\\eta_{t}$ и $\\eta_{r}$ are feeder gains in dB, $L_t$ and $L_r$ are the feeder losses in dB, $L$ is the path losses in dB, $L_{add}$ is additional losses \\(some margin\\) in dB.\n",
    "\n",
    "### 1.1.2. Path loss\n",
    "\n",
    "Path losses can be estimated by Friis formula:\n",
    "\n",
    "\n",
    "$$ L = 20lg\\frac{\\lambda}{4\\pi d}[dB] \\qquad (1.2)$$\n",
    "\n",
    "\n",
    "where $\\lambda$ \\(relates to the carrier frequency $f_0=\\frac{c}{\\lambda}$, $c$ is the speed of electromagnetic wave\\) is the wave length and $d$ is the distance between satellite and the ground station.\n",
    "\n",
    "### 1.1.3. Noise power\n",
    "\n",
    "Noise power can be calculated by:\n",
    "\n",
    "$$\n",
    "N = 10lg\\left(\\frac{kT_{noise}B_{noise}}{10^{-3}}\\right) [dBm] \\qquad (1.4)\n",
    "$$\n",
    "\n",
    "where $k$ is the Boltzmann constant, $T_{noise}$ is the equivalent noise temperature and $B_{noise}$ is the noise bandwidth. According to \\[1, p.98\\] the noise bandwidth $B_{noise}$ can be estimated as $\\gamma B$, where $B$ is the receiver bandwidth and $\\gamma$ is the constant from 1.002 to 1.57 that relates to configuration of the receiver.\n",
    "\n",
    "Equivalent noise temperature is not the physical temperature of an antenna. It is equal to the temperature of a resistor, which would have the same thermal noise power in the given frequency band. This parameter can be represented as:\n",
    "\n",
    "$$\n",
    "T_{noise} = T_a+T_e \\qquad (1.5)\n",
    "$$\n",
    "\n",
    "where $T_a$ is the sum of antenna losses and sky noise and $T_e$ is the receiver noise temperature. Additionally, receiver noise temperature can be calculated by following formula:\n",
    "\n",
    "$$\n",
    "T_e=T_0(F_{sys}-1) \\qquad (1.6)\n",
    "$$\n",
    "\n",
    "where $T_0$ is equal to $290K$ and $F_{sys} = 10^{\\frac{NF}{10}}$ is the noise factor which can be estimated by noise figure \\($NF$\\) of the receive antenna.\n"
   ]
  },
  {
   "cell_type": "markdown",
   "metadata": {},
   "source": [
    "##  References\n",
    "\n",
    "\\[1\\] L. Kantor, Satellite communication and broadcasting. Directory,Radio and communication,1988, "
   ]
  }
 ],
 "metadata": {
  "kernelspec": {
   "display_name": "Python 3",
   "language": "python",
   "name": "python3"
  },
  "language_info": {
   "codemirror_mode": {
    "name": "ipython",
    "version": 3
   },
   "file_extension": ".py",
   "mimetype": "text/x-python",
   "name": "python",
   "nbconvert_exporter": "python",
   "pygments_lexer": "ipython3",
   "version": "3.6.4"
  }
 },
 "nbformat": 4,
 "nbformat_minor": 2
}
