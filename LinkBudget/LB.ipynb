{
 "cells": [
  {
   "cell_type": "markdown",
   "metadata": {},
   "source": [
    "## Table of contents\n",
    "\n",
    "1. Link Budget\n",
    "2. [Statistical channel model survey](https://github.com/kirlf/cubesats/blob/master/statistical_model.md)\n",
    "3. [Modulation and coding \\(FEC\\) survey](https://github.com/kirlf/cubesats/blob/master/fec.md)\n",
    "\n",
    "*Little jocke before math and let's go!*\n",
    "\n",
    "<img src=\"https://imgs.xkcd.com/comics/cubesat_launch.png\" width=\"500\" />\n",
    "\n",
    "*Source: https://xkcd.com/2148/*\n",
    "\n",
    "## 1.1. Main formulas\n",
    "\n",
    "### 1.1.1. Expected Signal-to-Noise ratio\n",
    "\n",
    "Before we start considering even different types of modulation it is extremely valuable to know what SNR values can be expected on the receiver side. In fact, we can calculate the SNR as:\n",
    "\n",
    "$$ SNR = P_t + G_t + G_r + \\eta_{t} + \\eta_{r} - L_r - L_t - L_{add} - L - N \\qquad (1.1) $$\n",
    "\n",
    "where $N$ is the total termal noise power \\(relates to the noise spectral density $N_0=kT_{noise}$ and double-sided white noise variance $\\sigma^2=\\frac{N_0}{2}$\\) in dBm, $P_t$ is the transmitted power in dBm, $G_t$ and $G_r$ are the antenna gains  on the transmitter and receiver sides respectively \\(in dBi\\), $\\eta_{t}$ и $\\eta_{r}$ are feeder gains in dB, $L_t$ and $L_r$ are the feeder losses in dB, $L$ is the path losses in dB, $L_{add}$ is additional losses \\(some margin\\) in dB.\n",
    "\n",
    "### 1.1.2. Path loss\n",
    "\n",
    "Path losses can be estimated by Friis formula:\n",
    "\n",
    "\n",
    "$$ L = 20lg\\frac{\\lambda}{4\\pi d}[dB] \\qquad (1.2)$$\n",
    "\n",
    "\n",
    "where $\\lambda$ \\(relates to the carrier frequency $f_0=\\frac{c}{\\lambda}$, $c$ is the speed of electromagnetic wave\\) is the wave length and $d$ is the distance between satellite and the ground station.\n",
    "\n",
    "### 1.1.3. Noise power\n",
    "\n",
    "Noise power can be calculated by:\n",
    "\n",
    "$$\n",
    "N = 10lg\\left(\\frac{kT_{noise}B_{noise}}{10^{-3}}\\right) [dBm] \\qquad (1.3)\n",
    "$$\n",
    "\n",
    "where $k$ is the Boltzmann constant, $T_{noise}$ is the equivalent noise temperature and $B_{noise}$ is the noise bandwidth. According to \\[1, p.98\\] the noise bandwidth $B_{noise}$ can be estimated as $\\gamma B$, where $B$ is the receiver bandwidth and $\\gamma$ is the constant from 1.002 to 1.57 that relates to configuration of the receiver.\n",
    "\n",
    "Equivalent noise temperature is not the physical temperature of an antenna. It is equal to the temperature of a resistor, which would have the same thermal noise power in the given frequency band. This parameter can be represented as:\n",
    "\n",
    "$$\n",
    "T_{noise} = T_a+T_e \\qquad (1.4)\n",
    "$$\n",
    "\n",
    "where $T_a$ is the sum of antenna losses and sky noise and $T_e$ is the receiver noise temperature. Additionally, receiver noise temperature can be calculated by following formula:\n",
    "\n",
    "$$\n",
    "T_e=T_0(F_{sys}-1) \\qquad (1.5)\n",
    "$$\n",
    "\n",
    "where $T_0$ is equal to $290K$ and $F_{sys} = 10^{\\frac{NF}{10}}$ is the noise factor which can be estimated by noise figure \\($NF$\\) of the receive antenna.\n",
    "\n"
   ]
  },
  {
   "cell_type": "markdown",
   "metadata": {},
   "source": [
    "## 1.2. Additional losses\n",
    "The short review of additional losses can be obtained via the [following link](https://nbviewer.jupyter.org/github/kirlf/cubesats/blob/master/LinkBudget/AddLoss.ipynb)."
   ]
  },
  {
   "cell_type": "markdown",
   "metadata": {},
   "source": [
    "## 1.3. Parameters summary\n",
    "\n",
    "Let us provide some parameters summary:\n",
    "\n",
    "1. **Initial point:** carrier frequency,  hight of the orbit;\n",
    "2. **Equipment dependent parameters \\(adjustable\\)**: transmitted power , receiver bandwidth ;\n",
    "3. **Reference data:** antenna gains and losses, feeder gains and losses , noise temperature,  additional losses.\n"
   ]
  },
  {
   "cell_type": "markdown",
   "metadata": {},
   "source": [
    "## 1.4. Sat-to-Ground distance and visibility time\n",
    "\n",
    "The theoretical description can be obtained via the [following link](https://nbviewer.jupyter.org/github/kirlf/cubesats/blob/master/LinkBudget/SatDist.ipynb). "
   ]
  },
  {
   "cell_type": "markdown",
   "metadata": {},
   "source": [
    "## 1.5. Considered equipment\n",
    "\n",
    "In fact, we use informstion about common example of ground station such as [IC-910H](http://sicom.ru/catalog/radiostancii/lyubitelskie/bazovye/icom-ic-9100.html) or [ISIS ground station](https://www.cubesatshop.com/product/full-ground-station-kit-vhfuhfs-band/) however we can estimate some parameter of mobile stations of real space communication systems also. Fortunately, a lot of this information is open and available on official sites: [Iridium](https://www.iridium.com%20), Globalstar[](https://www.globalstar.com) and [Gonets](http://www.gonets.ru/rus/%20).\n",
    "\n",
    "These parameters can be used for calculation of up-link link budget.\n",
    "\n",
    "For down-link estimation real example of CubeSat transceivers such as [NanoCom AX100](https://gomspace.com/Shop/subsystems/communication/nanocom-ant2000.aspx) \\(fig. 1.6.1\\) may be used. Additionally, as an example of CubeSat UHF/VHF antenna omnidirectional [NanoCom ANT430](https://gomspace.com/Shop/subsystems/communication/nanocom-ant430.aspx) can be considered.\n",
    "\n",
    "\n",
    "For larger possible bandwidth 2.4GHz range also should be considered. For this range patch-antenna NanoCom ANT2000 and S-band transceiver [NanoCom SR2000](https://gomspace.com/Shop/subsystems/communication/nanocom-sr2000.aspx) are available. For low speed transmission \\(for example, for signaling\\) UHF/VHF NanoCom [ANT430](https://gomspace.com/Shop/subsystems/communication/nanocom-ax100.aspx) can be used."
   ]
  },
  {
   "cell_type": "markdown",
   "metadata": {},
   "source": [
    "## 1.6. Tests"
   ]
  },
  {
   "cell_type": "code",
   "execution_count": 1,
   "metadata": {},
   "outputs": [],
   "source": [
    "from SmallSatLB import *\n",
    "import pandas as pd\n",
    "import warnings\n",
    "warnings.filterwarnings('ignore')"
   ]
  },
  {
   "cell_type": "markdown",
   "metadata": {},
   "source": [
    "The source code of the **SmallSatLB** can be obtained via the [following link](https://github.com/kirlf/cubesats/blob/master/LinkBudget/SmallSatLB.py)."
   ]
  },
  {
   "cell_type": "markdown",
   "metadata": {},
   "source": [
    "### 'draft'"
   ]
  },
  {
   "cell_type": "code",
   "execution_count": 2,
   "metadata": {},
   "outputs": [
    {
     "data": {
      "text/plain": [
       "16.59103380442575"
      ]
     },
     "execution_count": 2,
     "metadata": {},
     "output_type": "execute_result"
    }
   ],
   "source": [
    "l_d = LinkBudget(750*1e3, 'draft')\n",
    "snr, EIRP = l_d.expected_snr(2.4e9, 1, 7.3, 35, 1.5e6, 1000)\n",
    "max(snr)"
   ]
  },
  {
   "cell_type": "code",
   "execution_count": 3,
   "metadata": {},
   "outputs": [
    {
     "data": {
      "image/png": "[encoded data removed]",
      "text/plain": [
       "<Figure size 432x288 with 1 Axes>"
      ]
     },
     "metadata": {
      "needs_background": "light"
     },
     "output_type": "display_data"
    }
   ],
   "source": [
    "phi = np.pi*np.array(range(0,181,5))/180\n",
    "plt.plot(180*phi/np.pi, snr, '-o', label='2.4 GHz')\n",
    "plt.title('Expected SNRs')\n",
    "plt.xlabel('Elevation angles (degrees)')\n",
    "plt.ylabel('SNR (dB)')\n",
    "plt.legend()\n",
    "plt.grid()"
   ]
  },
  {
   "cell_type": "code",
   "execution_count": 4,
   "metadata": {},
   "outputs": [
    {
     "data": {
      "image/png": "[encoded data removed]",
      "text/plain": [
       "<Figure size 432x288 with 1 Axes>"
      ]
     },
     "metadata": {
      "needs_background": "light"
     },
     "output_type": "display_data"
    }
   ],
   "source": [
    "d = l_d.distance()\n",
    "phi = np.pi*np.array(range(0,181,5))/180\n",
    "plt.plot(180*phi/np.pi, d*1e-3, '-o')\n",
    "plt.title('Distances')\n",
    "plt.xlabel('Elevation angles (degrees)')\n",
    "plt.ylabel('Distance (km)')\n",
    "plt.grid()"
   ]
  },
  {
   "cell_type": "markdown",
   "metadata": {},
   "source": [
    "### 'precise'"
   ]
  },
  {
   "cell_type": "code",
   "execution_count": 5,
   "metadata": {},
   "outputs": [
    {
     "data": {
      "text/plain": [
       "5.556823874020452"
      ]
     },
     "execution_count": 5,
     "metadata": {},
     "output_type": "execute_result"
    }
   ],
   "source": [
    "l_p = LinkBudget(750*1e3, 'precise',\\\n",
    "    L_node = 100+90, incl = 90 - 61.5,\\\n",
    "    lat_gs = 22, long_gs = 200, eps_min = 5)\n",
    "snr, EIRP = l_p.expected_snr(2.4e9, 1, 7.3, 35, 1.5e6, 1000)\n",
    "min(snr)"
   ]
  },
  {
   "cell_type": "code",
   "execution_count": 6,
   "metadata": {},
   "outputs": [
    {
     "data": {
      "text/plain": [
       "8.667000351847676"
      ]
     },
     "execution_count": 6,
     "metadata": {},
     "output_type": "execute_result"
    }
   ],
   "source": [
    "max(snr)"
   ]
  },
  {
   "cell_type": "markdown",
   "metadata": {},
   "source": [
    "### Visibility time"
   ]
  },
  {
   "cell_type": "code",
   "execution_count": 7,
   "metadata": {},
   "outputs": [],
   "source": [
    "alts = np.array([i for i in range(200, 2000, 50)])*1e3\n",
    "\n",
    "l_d = LinkBudget(alts, 'draft')\n",
    "l_p = LinkBudget(alts, 'precise',\\\n",
    "    L_node = 100+90, incl = 90 - 61.5,\\\n",
    "    lat_gs = 22, long_gs = 200, eps_min = 5)\n",
    "\n",
    "t0 = pd.DataFrame(np.round(l_d.visibility_time(),2),\\\n",
    "                  columns=['Visibility time (min) formula 1.4.6'])\n",
    "t1 = pd.DataFrame(np.round(l_p.visibility_time(),2),\\\n",
    "                 columns=['Visibility time (min) formula 1.4.7'])"
   ]
  },
  {
   "cell_type": "code",
   "execution_count": 8,
   "metadata": {},
   "outputs": [
    {
     "data": {
      "text/html": [
       "<div>\n",
       "<style scoped>\n",
       "    .dataframe tbody tr th:only-of-type {\n",
       "        vertical-align: middle;\n",
       "    }\n",
       "\n",
       "    .dataframe tbody tr th {\n",
       "        vertical-align: top;\n",
       "    }\n",
       "\n",
       "    .dataframe thead th {\n",
       "        text-align: right;\n",
       "    }\n",
       "</style>\n",
       "<table border=\"1\" class=\"dataframe\">\n",
       "  <thead>\n",
       "    <tr style=\"text-align: right;\">\n",
       "      <th></th>\n",
       "      <th>Orbit altitudes (km)</th>\n",
       "      <th>Visibility time (min) formula 1.4.6</th>\n",
       "      <th>Visibility time (min) formula 1.4.7</th>\n",
       "    </tr>\n",
       "  </thead>\n",
       "  <tbody>\n",
       "    <tr>\n",
       "      <th>0</th>\n",
       "      <td>200.0</td>\n",
       "      <td>6.93</td>\n",
       "      <td>NaN</td>\n",
       "    </tr>\n",
       "    <tr>\n",
       "      <th>1</th>\n",
       "      <td>250.0</td>\n",
       "      <td>7.81</td>\n",
       "      <td>NaN</td>\n",
       "    </tr>\n",
       "    <tr>\n",
       "      <th>2</th>\n",
       "      <td>300.0</td>\n",
       "      <td>8.62</td>\n",
       "      <td>NaN</td>\n",
       "    </tr>\n",
       "    <tr>\n",
       "      <th>3</th>\n",
       "      <td>350.0</td>\n",
       "      <td>9.39</td>\n",
       "      <td>NaN</td>\n",
       "    </tr>\n",
       "    <tr>\n",
       "      <th>4</th>\n",
       "      <td>400.0</td>\n",
       "      <td>10.12</td>\n",
       "      <td>2.53</td>\n",
       "    </tr>\n",
       "    <tr>\n",
       "      <th>5</th>\n",
       "      <td>450.0</td>\n",
       "      <td>10.82</td>\n",
       "      <td>4.04</td>\n",
       "    </tr>\n",
       "    <tr>\n",
       "      <th>6</th>\n",
       "      <td>500.0</td>\n",
       "      <td>11.50</td>\n",
       "      <td>5.16</td>\n",
       "    </tr>\n",
       "    <tr>\n",
       "      <th>7</th>\n",
       "      <td>550.0</td>\n",
       "      <td>12.15</td>\n",
       "      <td>6.12</td>\n",
       "    </tr>\n",
       "    <tr>\n",
       "      <th>8</th>\n",
       "      <td>600.0</td>\n",
       "      <td>12.79</td>\n",
       "      <td>6.97</td>\n",
       "    </tr>\n",
       "    <tr>\n",
       "      <th>9</th>\n",
       "      <td>650.0</td>\n",
       "      <td>13.42</td>\n",
       "      <td>7.76</td>\n",
       "    </tr>\n",
       "    <tr>\n",
       "      <th>10</th>\n",
       "      <td>700.0</td>\n",
       "      <td>14.03</td>\n",
       "      <td>8.51</td>\n",
       "    </tr>\n",
       "    <tr>\n",
       "      <th>11</th>\n",
       "      <td>750.0</td>\n",
       "      <td>14.63</td>\n",
       "      <td>9.21</td>\n",
       "    </tr>\n",
       "    <tr>\n",
       "      <th>12</th>\n",
       "      <td>800.0</td>\n",
       "      <td>15.23</td>\n",
       "      <td>9.89</td>\n",
       "    </tr>\n",
       "    <tr>\n",
       "      <th>13</th>\n",
       "      <td>850.0</td>\n",
       "      <td>15.82</td>\n",
       "      <td>10.55</td>\n",
       "    </tr>\n",
       "    <tr>\n",
       "      <th>14</th>\n",
       "      <td>900.0</td>\n",
       "      <td>16.40</td>\n",
       "      <td>11.18</td>\n",
       "    </tr>\n",
       "    <tr>\n",
       "      <th>15</th>\n",
       "      <td>950.0</td>\n",
       "      <td>16.97</td>\n",
       "      <td>11.80</td>\n",
       "    </tr>\n",
       "    <tr>\n",
       "      <th>16</th>\n",
       "      <td>1000.0</td>\n",
       "      <td>17.54</td>\n",
       "      <td>12.41</td>\n",
       "    </tr>\n",
       "    <tr>\n",
       "      <th>17</th>\n",
       "      <td>1050.0</td>\n",
       "      <td>18.10</td>\n",
       "      <td>13.00</td>\n",
       "    </tr>\n",
       "    <tr>\n",
       "      <th>18</th>\n",
       "      <td>1100.0</td>\n",
       "      <td>18.66</td>\n",
       "      <td>13.59</td>\n",
       "    </tr>\n",
       "    <tr>\n",
       "      <th>19</th>\n",
       "      <td>1150.0</td>\n",
       "      <td>19.22</td>\n",
       "      <td>14.16</td>\n",
       "    </tr>\n",
       "    <tr>\n",
       "      <th>20</th>\n",
       "      <td>1200.0</td>\n",
       "      <td>19.77</td>\n",
       "      <td>14.73</td>\n",
       "    </tr>\n",
       "    <tr>\n",
       "      <th>21</th>\n",
       "      <td>1250.0</td>\n",
       "      <td>20.33</td>\n",
       "      <td>15.29</td>\n",
       "    </tr>\n",
       "    <tr>\n",
       "      <th>22</th>\n",
       "      <td>1300.0</td>\n",
       "      <td>20.87</td>\n",
       "      <td>15.85</td>\n",
       "    </tr>\n",
       "    <tr>\n",
       "      <th>23</th>\n",
       "      <td>1350.0</td>\n",
       "      <td>21.42</td>\n",
       "      <td>16.40</td>\n",
       "    </tr>\n",
       "    <tr>\n",
       "      <th>24</th>\n",
       "      <td>1400.0</td>\n",
       "      <td>21.97</td>\n",
       "      <td>16.95</td>\n",
       "    </tr>\n",
       "    <tr>\n",
       "      <th>25</th>\n",
       "      <td>1450.0</td>\n",
       "      <td>22.51</td>\n",
       "      <td>17.49</td>\n",
       "    </tr>\n",
       "    <tr>\n",
       "      <th>26</th>\n",
       "      <td>1500.0</td>\n",
       "      <td>23.05</td>\n",
       "      <td>18.03</td>\n",
       "    </tr>\n",
       "    <tr>\n",
       "      <th>27</th>\n",
       "      <td>1550.0</td>\n",
       "      <td>23.59</td>\n",
       "      <td>18.56</td>\n",
       "    </tr>\n",
       "    <tr>\n",
       "      <th>28</th>\n",
       "      <td>1600.0</td>\n",
       "      <td>24.13</td>\n",
       "      <td>19.10</td>\n",
       "    </tr>\n",
       "    <tr>\n",
       "      <th>29</th>\n",
       "      <td>1650.0</td>\n",
       "      <td>24.67</td>\n",
       "      <td>19.63</td>\n",
       "    </tr>\n",
       "    <tr>\n",
       "      <th>30</th>\n",
       "      <td>1700.0</td>\n",
       "      <td>25.21</td>\n",
       "      <td>20.16</td>\n",
       "    </tr>\n",
       "    <tr>\n",
       "      <th>31</th>\n",
       "      <td>1750.0</td>\n",
       "      <td>25.75</td>\n",
       "      <td>20.69</td>\n",
       "    </tr>\n",
       "    <tr>\n",
       "      <th>32</th>\n",
       "      <td>1800.0</td>\n",
       "      <td>26.29</td>\n",
       "      <td>21.21</td>\n",
       "    </tr>\n",
       "    <tr>\n",
       "      <th>33</th>\n",
       "      <td>1850.0</td>\n",
       "      <td>26.82</td>\n",
       "      <td>21.74</td>\n",
       "    </tr>\n",
       "    <tr>\n",
       "      <th>34</th>\n",
       "      <td>1900.0</td>\n",
       "      <td>27.36</td>\n",
       "      <td>22.26</td>\n",
       "    </tr>\n",
       "    <tr>\n",
       "      <th>35</th>\n",
       "      <td>1950.0</td>\n",
       "      <td>27.90</td>\n",
       "      <td>22.78</td>\n",
       "    </tr>\n",
       "  </tbody>\n",
       "</table>\n",
       "</div>"
      ],
      "text/plain": [
       "    Orbit altitudes (km)  Visibility time (min) formula 1.4.6  \\\n",
       "0                  200.0                                 6.93   \n",
       "1                  250.0                                 7.81   \n",
       "2                  300.0                                 8.62   \n",
       "3                  350.0                                 9.39   \n",
       "4                  400.0                                10.12   \n",
       "5                  450.0                                10.82   \n",
       "6                  500.0                                11.50   \n",
       "7                  550.0                                12.15   \n",
       "8                  600.0                                12.79   \n",
       "9                  650.0                                13.42   \n",
       "10                 700.0                                14.03   \n",
       "11                 750.0                                14.63   \n",
       "12                 800.0                                15.23   \n",
       "13                 850.0                                15.82   \n",
       "14                 900.0                                16.40   \n",
       "15                 950.0                                16.97   \n",
       "16                1000.0                                17.54   \n",
       "17                1050.0                                18.10   \n",
       "18                1100.0                                18.66   \n",
       "19                1150.0                                19.22   \n",
       "20                1200.0                                19.77   \n",
       "21                1250.0                                20.33   \n",
       "22                1300.0                                20.87   \n",
       "23                1350.0                                21.42   \n",
       "24                1400.0                                21.97   \n",
       "25                1450.0                                22.51   \n",
       "26                1500.0                                23.05   \n",
       "27                1550.0                                23.59   \n",
       "28                1600.0                                24.13   \n",
       "29                1650.0                                24.67   \n",
       "30                1700.0                                25.21   \n",
       "31                1750.0                                25.75   \n",
       "32                1800.0                                26.29   \n",
       "33                1850.0                                26.82   \n",
       "34                1900.0                                27.36   \n",
       "35                1950.0                                27.90   \n",
       "\n",
       "    Visibility time (min) formula 1.4.7  \n",
       "0                                   NaN  \n",
       "1                                   NaN  \n",
       "2                                   NaN  \n",
       "3                                   NaN  \n",
       "4                                  2.53  \n",
       "5                                  4.04  \n",
       "6                                  5.16  \n",
       "7                                  6.12  \n",
       "8                                  6.97  \n",
       "9                                  7.76  \n",
       "10                                 8.51  \n",
       "11                                 9.21  \n",
       "12                                 9.89  \n",
       "13                                10.55  \n",
       "14                                11.18  \n",
       "15                                11.80  \n",
       "16                                12.41  \n",
       "17                                13.00  \n",
       "18                                13.59  \n",
       "19                                14.16  \n",
       "20                                14.73  \n",
       "21                                15.29  \n",
       "22                                15.85  \n",
       "23                                16.40  \n",
       "24                                16.95  \n",
       "25                                17.49  \n",
       "26                                18.03  \n",
       "27                                18.56  \n",
       "28                                19.10  \n",
       "29                                19.63  \n",
       "30                                20.16  \n",
       "31                                20.69  \n",
       "32                                21.21  \n",
       "33                                21.74  \n",
       "34                                22.26  \n",
       "35                                22.78  "
      ]
     },
     "execution_count": 8,
     "metadata": {},
     "output_type": "execute_result"
    }
   ],
   "source": [
    "alts = pd.DataFrame(alts, columns=['Orbit altitudes (km)'])\n",
    "pd.concat([alts*1e-3, t0, t1], axis=1, ignore_index=False, join='inner')"
   ]
  },
  {
   "cell_type": "markdown",
   "metadata": {},
   "source": [
    "##  References\n",
    "\n",
    "\\[1\\] L. Kantor, Satellite communication and broadcasting. Directory,Radio and communication,1988\n",
    "\n",
    "## Afterwords \n",
    "\n",
    "The work on this tutorial have inspired me to prepare the same stuff in my native laguage: [\"Подсчитываем энергобюджет радиолинии для спутника формата CubeSat\" (habr.com)](https://habr.com/ru/post/447728/). Probably, it can also be usefull for someone."
   ]
  }
 ],
 "metadata": {
  "kernelspec": {
   "display_name": "Python 3",
   "language": "python",
   "name": "python3"
  },
  "language_info": {
   "codemirror_mode": {
    "name": "ipython",
    "version": 3
   },
   "file_extension": ".py",
   "mimetype": "text/x-python",
   "name": "python",
   "nbconvert_exporter": "python",
   "pygments_lexer": "ipython3",
   "version": "3.7.4"
  }
 },
 "nbformat": 4,
 "nbformat_minor": 2
}
