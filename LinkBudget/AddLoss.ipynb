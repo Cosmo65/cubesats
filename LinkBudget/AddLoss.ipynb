{
 "cells": [
  {
   "cell_type": "markdown",
   "metadata": {},
   "source": [
    "## 1.2. Additional losses\n",
    "\n",
    "According to \\[1, p.88-96\\] additional losses include:\n",
    "\n",
    "* loss due to refraction and inaccuracy of antenna pointing \\(Antenna Beam Loss\\);\n",
    "* phase effects in the atmosphere;\n",
    "* loss due to inconsistency of polarization of antennas;\n",
    "* attenuations due to hydrometeors."
   ]
  },
  {
   "cell_type": "markdown",
   "metadata": {},
   "source": [
    "### 1.2.1. Loss due to refraction and inaccuracy of antenna pointing \n",
    "\n",
    "Depends on characteristics of the certain antenna:\n",
    "\n",
    "$$\n",
    "L_b = 10log_{10}(1+ (2\\theta/\\theta_{0.5})^2) \\qquad (1.7)\n",
    "$$\n",
    "\n",
    "where $ \\theta$ is the beamwidth and $\\theta_{0.5}$ is the halfpowered beamwidth \\(fig. 1.2.1\\).\n",
    "\n",
    "![Fig. 2.1 Antenna gain pattern  \\[2\\]](https://raw.githubusercontent.com/kirlf/cubesats/master/.gitbook/assets/image%20%288%29.png)\n",
    "*Fig. 1.2.1. Antenna gain pattern [2]*\n",
    "\n",
    "According to [\\[2\\]](http://www.atlantarf.com/Downloads.php) total antenna losses for large cassegrain antennas are equal to 1.65 dB."
   ]
  },
  {
   "cell_type": "markdown",
   "metadata": {},
   "source": [
    "### 1.2.2. Phase effects in the atmosphere\n",
    "\n",
    "Influence data rate, due to receiver bandwidth should be desirably selected according to table 1.2.1 \\[1, p. 91\\] to avoid phase distortions.\n",
    "\n",
    "Table 1.2.1. Maximum receiver bandwidths for different ranges.\n",
    "\n",
    "| Carrier frequency, GHz | 0.5 | 1 | 5 | 10 |\n",
    "| :--- | :--- | :--- | :--- | :--- |\n",
    "| Receiver bandwidth \\(B\\), MHz | 10 | 25 | 270 | 750 |\n",
    "\n",
    "Additionaly, to avoid Faradey effect for ranges less than 10 GHz only circular polarization should be used \\[1, p. 91\\].\n"
   ]
  },
  {
   "cell_type": "markdown",
   "metadata": {},
   "source": [
    "### 1.2.3. Loss due to inconsistency of polarization of antennas\n",
    "\n",
    "Can be estimated by figure 1.2.2 \\($e_1$ and $e_2$ are coefficients of elipticity\\).\n",
    "\n",
    "\n",
    "\n",
    "![Fig. 2.2. Dependence of losses due to inconsistency of the polarizations of the transmitting and receiving antennas from the polarity elepticity. \\[1, p. 93\\]](https://raw.githubusercontent.com/kirlf/cubesats/master/.gitbook/assets/image%20%287%29.png)\n",
    "*Fig. 1.2.2. Dependence of losses due to inconsistency of the polarizations of the transmitting and receiving antennas from the polarity elepticity. \\[1, p. 93\\]*\n",
    "\n",
    "In general, this parameter is kind of reference data, e.g. in the link budget calculation for [NanoCom AX100](https://gomspace.com/UserFiles/Subsystems/datasheet/gs-ds-nanocom-ax100-33.pdf) polarization losses are equal to 3 dB \\(and athmospheric losses are 2.1 dB,  ionospheric losses are 0.4 dB\\)."
   ]
  },
  {
   "cell_type": "markdown",
   "metadata": {},
   "source": [
    "### 1.2.4. Attenuations due to hydrometeors and other additional losses\n",
    "\n",
    "Can be evaluated by [\\[3\\]](https://www.itu.int/dms_pubrec/itu-r/rec/p/R-REC-P.676-11-201609-I!!PDF-E.pdf). Fortunately, for ranges smaller than 10 GHz the losses are smaller than 1 dB \\(fig. 1.2.3 and 1.2.4\\).\n",
    "\n",
    "![Fig. 2.3:  Specific attenuation due to atmospheric gases, calculated at 1 GHz intervals, including line centres \\[10\\].](https://raw.githubusercontent.com/kirlf/cubesats/master/.gitbook/assets/atten1.png)\n",
    "*Fig. 1.2.3.  Specific attenuation due to atmospheric gases, calculated at 1 GHz intervals, including line centres \\[10\\].*\n",
    "\n",
    "![Fig.  2.4:  Zenith attenuation due to atmospheric gases, calculated at 1 GHz intervals, including line centres \\[3\\].](https://raw.githubusercontent.com/kirlf/cubesats/master/.gitbook/assets/atten2.png)\n",
    "*Fig.  1.2.4.  Zenith attenuation due to atmospheric gases, calculated at 1 GHz intervals, including line centres \\[3\\].*"
   ]
  },
  {
   "cell_type": "markdown",
   "metadata": {},
   "source": [
    "##  References\n",
    "\n",
    "\\[1\\] L. Kantor, Satellite communication and broadcasting. Directory,Radio and communication,1988, \n",
    "\n",
    "\\[2\\] [Antennas - An Overview](http://www.atlantarf.com/Downloads.php)  \\(date of the application is 09.07.2018\\)\n",
    "\n",
    "\\[3\\] [Attenuation by atmospheric gases, ITU 2016](https://www.itu.int/dms_pubrec/itu-r/rec/p/R-REC-P.676-11-201609-I!!PDF-E.pdf) \\(date of the application is 27.06.2017\\)"
   ]
  }
 ],
 "metadata": {
  "kernelspec": {
   "display_name": "Python 3",
   "language": "python",
   "name": "python3"
  },
  "language_info": {
   "codemirror_mode": {
    "name": "ipython",
    "version": 3
   },
   "file_extension": ".py",
   "mimetype": "text/x-python",
   "name": "python",
   "nbconvert_exporter": "python",
   "pygments_lexer": "ipython3",
   "version": "3.6.4"
  }
 },
 "nbformat": 4,
 "nbformat_minor": 2
}
