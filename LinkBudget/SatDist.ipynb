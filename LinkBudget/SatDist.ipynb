{
 "cells": [
  {
   "cell_type": "markdown",
   "metadata": {},
   "source": [
    "## 1.4. Sat-to-Ground distance\n",
    "\n",
    "### 1.4.1. Elevation angle\n",
    "\n",
    "More or less precise calculation of the distances in dependance of elevation angles $\\phi$ can be provided according to [\\[1\\]](https://ieeexplore.ieee.org/document/7506756/) for orbit geometries that are shown in fig. 1.4.1. and 1.4.2.:\n",
    "\n",
    "$$\n",
    "d = \\sqrt{(R_E+h)^2-R^2cos^2\\phi} - R_Esin\\phi \\qquad (1.8)\n",
    "$$\n",
    "\n",
    "where $R_E$ is the Earth radius.\n",
    "\n",
    "\n",
    "\n",
    "![satellites4everyone](https://raw.githubusercontent.com/kirlf/cubesats/master/.gitbook/assets/all_fallback.png)\n",
    "*Fig.1.4.1.[Satellite orbits illustartion](http://satellites4everyone.co.uk/)*\n",
    "\n",
    "\n",
    "![Fig. 2.5.  Schematic description of a CubeSat trajectory in low Earth orbit \\[12\\].](https://raw.githubusercontent.com/kirlf/cubesats/master/.gitbook/assets/cubetrraj.png)\n",
    "*Fig. 1.4.2.  Schematic description of a CubeSat trajectory in low Earth orbit \\[1\\].*\n",
    "  \n",
    "For orbit's altitude 750 km results are shown in fig. 2.6.\n",
    "\n",
    "![Fig. 2.6. Distance between CubeSat and ground station in dependance of elevation angles \\(h = 750 km\\).](https://raw.githubusercontent.com/kirlf/cubesats/master/.gitbook/assets/distance.png)\n",
    "*Fig. 1.4.3. Distance between CubeSat and ground station in dependance of elevation angles \\(h = 750 km\\).*\n",
    "\n",
    "For different LEO altitudes results are shown in fig. 1.4.4.\n",
    "\n",
    "![Fig. 2.7: Distances between CubeSat and ground station in dependance of elevation angles.](https://raw.githubusercontent.com/kirlf/cubesats/master/.gitbook/assets/distance2.png)\n",
    "*Fig. 1.4.4. Distances between CubeSat and ground station in dependance of elevation angles.*\n"
   ]
  },
  {
   "cell_type": "markdown",
   "metadata": {},
   "source": [
    "### 2.1.6.2. Real coordinates\n",
    "\n",
    "Moreover, the range  between minimum and maximum distances can be calculated with respect to geographical coordinates of the ground station \\($lat_{gs}$ and $long_{gs}$\\) and the instantaneous ascending node $L_{node}$ and the instantaneous orbit pole $i$ of the satellite \\[2, p.110-123\\].\n",
    "\n",
    "$$\n",
    "d_{min} = R_E\\frac{\\sin \\lambda_{min}}{\\sin \\eta_{min}} \\qquad (1.9)\n",
    "$$\n",
    "\n",
    "where $\\sin \\lambda_{min} = \\sin(90^0 - i)\\sin (lat_{gs}) + \\cos(90^0 - i)\\cos (lat_{gs}) \\cos(long_{gs}- (L_{node} - 90^0)) $ is the minimum Erth central angle. Minimum nadir angle can be calculated as:\n",
    "\n",
    "$$\n",
    "\\eta_{min} = arctan \\frac{\\sin \\rho \\sin \\lambda_{min}}{1 - \\sin \\rho \\cos \\lambda_{min}} \\qquad(1.10)\n",
    "$$\n",
    "\n",
    "where $ \\rho = arcsin \\frac{R_E}{R_E+h}$ is the angular radius of the Earth. \n",
    "\n",
    "Maximum distance can be calculated by:\n",
    "\n",
    "$$\n",
    "d_{max} = R_E \\frac{\\sin \\lambda_{max}}{\\sin \\eta_{max}} \\qquad(1.11)\n",
    "$$\n",
    "\n",
    "where $\\sin \\eta_{max} = \\sin \\rho \\cos \\epsilon_{min}$  and $ \\lambda_{max} = 90^0 - \\epsilon_{min} - \\eta_{max}$ \\($\\epsilon_{min}$ is the minimum spacecraft elevation\\).\n",
    "\n",
    "| $h$\\(km\\) | $ d_{min}$\\(km\\) | $d_{max}$\\(km\\) |\n",
    "| :--- | :--- | :--- |\n",
    "| 750 | 1867.5 | 2671.6 |"
   ]
  },
  {
   "cell_type": "markdown",
   "metadata": {},
   "source": [
    "## References:\n",
    "\n",
    "\\[1\\] Otilia Popescuy, Jason S. Harrisz and Dimitrie C. Popescuz, Designing the Communica- tion Sub-System for Nanosatellite CubeSat Missions: Operational and Implementation Perspectives, 2016, IEEE\n",
    "\n",
    "  \n",
    "\\[2\\]  Wertz J. R., Larson W. J. Space Mission Analysis and Design, Space Technology Library. – Microcosm Press and Kluwer Academic Publishers, El Segundo, CA, USA,, 1999."
   ]
  }
 ],
 "metadata": {
  "kernelspec": {
   "display_name": "Python 3",
   "language": "python",
   "name": "python3"
  },
  "language_info": {
   "codemirror_mode": {
    "name": "ipython",
    "version": 3
   },
   "file_extension": ".py",
   "mimetype": "text/x-python",
   "name": "python",
   "nbconvert_exporter": "python",
   "pygments_lexer": "ipython3",
   "version": "3.6.4"
  }
 },
 "nbformat": 4,
 "nbformat_minor": 2
}
