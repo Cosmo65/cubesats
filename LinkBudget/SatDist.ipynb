{
 "cells": [
  {
   "cell_type": "markdown",
   "metadata": {},
   "source": [
    "## 1.4. Sat-to-Ground distance\n",
    "\n",
    "### 1.4.1. Elevation angle\n",
    "\n",
    "More or less precise calculation of the distances in dependance of elevation angles $\\phi$ can be provided according to [\\[1\\]](https://ieeexplore.ieee.org/document/7506756/) for orbit geometries that are shown in fig. 1.4.1. and 1.4.2.:\n",
    "\n",
    "$$\n",
    "d = \\sqrt{(R_E+h)^2-R^2cos^2\\phi} - R_Esin\\phi \\qquad (1.4.1)\n",
    "$$\n",
    "\n",
    "where $R_E$ is the Earth radius.\n",
    "\n",
    "\n",
    "\n",
    "![satellites4everyone](https://raw.githubusercontent.com/kirlf/cubesats/master/.gitbook/assets/all_fallback.png)\n",
    ">*Fig.1.4.1.[Satellite orbits illustartion](http://satellites4everyone.co.uk/)*\n",
    "\n",
    "\n",
    "![Fig. 2.5.  Schematic description of a CubeSat trajectory in low Earth orbit \\[12\\].](https://raw.githubusercontent.com/kirlf/cubesats/master/.gitbook/assets/cubetrraj.png)\n",
    ">*Fig. 1.4.2.  Schematic description of a CubeSat trajectory in low Earth orbit \\[1\\].*\n",
    "  \n",
    "This mode is named as **'draft'** in the source code. "
   ]
  },
  {
   "cell_type": "markdown",
   "metadata": {},
   "source": [
    "### 1.4.2. Real coordinates\n",
    "\n",
    "Moreover, the range  between minimum and maximum distances can be calculated with respect to geographical coordinates of the ground station \\($lat_{gs}$ and $long_{gs}$\\) and the instantaneous ascending node $L_{node}$ and the instantaneous orbit pole $i$ of the satellite \\[2, p.110-123\\].\n",
    "\n",
    "$$\n",
    "d_{min} = R_E\\frac{\\sin \\lambda_{min}}{\\sin \\eta_{min}} \\qquad (1.4.2)\n",
    "$$\n",
    "\n",
    "where $\\sin \\lambda_{min} = \\sin(90^0 - i)\\sin (lat_{gs}) + \\cos(90^0 - i)\\cos (lat_{gs}) \\cos(long_{gs}- (L_{node} - 90^0)) $ is the minimum Erth central angle. Minimum nadir angle can be calculated as:\n",
    "\n",
    "$$\n",
    "\\eta_{min} = arctan \\frac{\\sin \\rho \\sin \\lambda_{min}}{1 - \\sin \\rho \\cos \\lambda_{min}} \\qquad(1.4.3)\n",
    "$$\n",
    "\n",
    "where $ \\rho = arcsin \\frac{R_E}{R_E+h}$ is the angular radius of the Earth. \n",
    "\n",
    "Maximum distance can be calculated by:\n",
    "\n",
    "$$\n",
    "d_{max} = R_E \\frac{\\sin \\lambda_{max}}{\\sin \\eta_{max}} \\qquad(1.4.4)\n",
    "$$\n",
    "\n",
    "where $\\sin \\eta_{max} = \\sin \\rho \\cos \\epsilon_{min}$  and $ \\lambda_{max} = 90^0 - \\epsilon_{min} - \\eta_{max}$ \\($\\epsilon_{min}$ is the minimum spacecraft elevation\\).\n",
    "\n",
    "| $h$\\(km\\) | $ d_{min}$\\(km\\) | $d_{max}$\\(km\\) |\n",
    "| :--- | :--- | :--- |\n",
    "| 750 | 1867.5 | 2671.6 |\n",
    "\n",
    "This mode is named as **'precise'** in the source code."
   ]
  },
  {
   "cell_type": "markdown",
   "metadata": {},
   "source": [
    "### 1.4.3. Visibility time\n",
    "\n",
    "Moreover, if we assume that we consider environment without any influence of the atmosphere to the movement of the satellite, circular velocity can be calculated via the classical way \\(fig. 1.4.3\\):\n",
    "\n",
    "$$\n",
    "v = \\sqrt{G\\frac{M}{R}} \\qquad (1.4.5)\n",
    "$$\n",
    "\n",
    " where $G=6.67 \\times 10^{-11} m^3 \\times kg^{-1} \\times s^{-2}$  is the Gravity constant, $M = 6\\times 10^{24} kg$  is the Earth mass and $R = R_E + h$  is the orbit radius \\(Earth radius plus orbit heigh\\).\n",
    "\n",
    "![Figure 2.8. Cercular velosity of LEO satellites in dependance of the orbit heigh.](https://raw.githubusercontent.com/kirlf/cubesats/master/.gitbook/assets/velosity.png)\n",
    "*Figure 1.4.3. Cercular velosity of LEO satellites in dependance of the orbit heigh.*\n",
    "\n",
    " Visibility time can be calculated based on knowledge about circular velocity and heigh of the orbit. For trajectory that is shown in fig. 1.4.2 this can be done via [\\[1\\]](https://ieeexplore.ieee.org/document/7506756/):\n",
    "\n",
    "$$\n",
    "t=\\frac{2(R_E+h)arccos(\\frac{R_E}{R_E+h})}{v}\n",
    "\\qquad (1.4.6)\n",
    "$$\n",
    "\n",
    "More precise calculation can be done by \\[2, p.121\\]:\n",
    "\n",
    "$$\n",
    "t = \\frac{P}{180^0}\\arccos \\left( \\frac{\\cos \\lambda_{max}}{\\cos \\lambda_{min}} \\right) \\qquad (1.4.7)\n",
    "$$\n",
    "\n",
    "where $ P = 1.658669 \\times 10^{-4} \\times  (6378.14 + h[km])^{3/2} $  is the orbit period \\(in minutes\\)."
   ]
  },
  {
   "cell_type": "markdown",
   "metadata": {},
   "source": [
    "## References:\n",
    "\n",
    "\\[1\\] Otilia Popescuy, Jason S. Harrisz and Dimitrie C. Popescuz, Designing the Communica- tion Sub-System for Nanosatellite CubeSat Missions: Operational and Implementation Perspectives, 2016, IEEE\n",
    "\n",
    "  \n",
    "\\[2\\]  Wertz J. R., Larson W. J. Space Mission Analysis and Design, Space Technology Library. – Microcosm Press and Kluwer Academic Publishers, El Segundo, CA, USA,, 1999."
   ]
  }
 ],
 "metadata": {
  "kernelspec": {
   "display_name": "Python 3",
   "language": "python",
   "name": "python3"
  },
  "language_info": {
   "codemirror_mode": {
    "name": "ipython",
    "version": 3
   },
   "file_extension": ".py",
   "mimetype": "text/x-python",
   "name": "python",
   "nbconvert_exporter": "python",
   "pygments_lexer": "ipython3",
   "version": "3.6.4"
  }
 },
 "nbformat": 4,
 "nbformat_minor": 2
}
